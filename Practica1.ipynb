{
 "cells": [
  {
   "cell_type": "code",
   "execution_count": 25,
   "id": "33ac2779",
   "metadata": {},
   "outputs": [
    {
     "name": "stdout",
     "output_type": "stream",
     "text": [
      " me gusta programar junto a mi amigo fabricio \n",
      "Me gusta programar junto a mi amigo Fabricio\n",
      " Me ***** programar junto a mi amigo Fabricio \n",
      "Palabras reemplazadas: 1\n",
      "Help on function process_text in module __main__:\n",
      "\n",
      "process_text(\n",
      "    cad=' Me gusta programar junto a mi amigo Fabricio ',\n",
      "    lista=['gusta', 'la', 'pizza']\n",
      ")\n",
      "    Esta función procesa una cadena de texto realizando varias operaciones:\n",
      "    - Convierte la cadena a minúsculas.\n",
      "    - Elimina espacios en blanco.\n",
      "    - Reemplaza palabras por asteriscos y cuenta cuántas se han reemplazado.\n",
      "\n"
     ]
    }
   ],
   "source": [
    "def process_text(cad = \" Me gusta programar junto a mi amigo Fabricio \", lista = [\"gusta\", \"la\", \"pizza\"]):\n",
    "    \"\"\"Esta función procesa una cadena de texto realizando varias operaciones:\n",
    "    - Convierte la cadena a minúsculas.\n",
    "    - Elimina espacios en blanco.\n",
    "    - Reemplaza palabras por asteriscos y cuenta cuántas se han reemplazado.\n",
    "    \"\"\"\n",
    "    lcad = cad.lower()\n",
    "    blank = cad.strip()\n",
    "    cadena_asterisco = cad\n",
    "    palabras_reemplazadas = 0\n",
    "    \n",
    "    for palabra in lista:\n",
    "        count = cadena_asterisco.count(palabra)\n",
    "        palabras_reemplazadas += count\n",
    "        cadena_asterisco = cadena_asterisco.replace(palabra, '*'*len(palabra))\n",
    "    \n",
    "    print(lcad)\n",
    "    print(blank)\n",
    "    print(cadena_asterisco)\n",
    "    print(f\"Palabras reemplazadas: {palabras_reemplazadas}\")\n",
    "    \n",
    "if __name__ == \"__main__\":\n",
    "    process_text()\n",
    "    help(process_text)"
   ]
  }
 ],
 "metadata": {
  "kernelspec": {
   "display_name": "Python 3",
   "language": "python",
   "name": "python3"
  },
  "language_info": {
   "codemirror_mode": {
    "name": "ipython",
    "version": 3
   },
   "file_extension": ".py",
   "mimetype": "text/x-python",
   "name": "python",
   "nbconvert_exporter": "python",
   "pygments_lexer": "ipython3",
   "version": "3.13.0"
  }
 },
 "nbformat": 4,
 "nbformat_minor": 5
}
