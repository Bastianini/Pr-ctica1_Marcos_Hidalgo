{
 "cells": [
  {
   "cell_type": "code",
   "execution_count": 25,
   "id": "33ac2779",
   "metadata": {},
   "outputs": [
    {
     "name": "stdout",
     "output_type": "stream",
     "text": [
      " me gusta programar junto a mi amigo fabricio \n",
      "Me gusta programar junto a mi amigo Fabricio\n",
      " Me ***** programar junto a mi amigo Fabricio \n",
      "Palabras reemplazadas: 1\n",
      "Help on function process_text in module __main__:\n",
      "\n",
      "process_text(\n",
      "    cad=' Me gusta programar junto a mi amigo Fabricio ',\n",
      "    lista=['gusta', 'la', 'pizza']\n",
      ")\n",
      "    Esta función procesa una cadena de texto realizando varias operaciones:\n",
      "    - Convierte la cadena a minúsculas.\n",
      "    - Elimina espacios en blanco.\n",
      "    - Reemplaza palabras por asteriscos y cuenta cuántas se han reemplazado.\n",
      "\n"
     ]
    }
   ],
   "source": [
    "def process_text(cad = \" Me gusta programar junto a mi amigo Fabricio \", lista = [\"gusta\", \"la\", \"pizza\"]):\n",
    "    \"\"\"Esta función procesa una cadena de texto realizando varias operaciones:\n",
    "    - Convierte la cadena a minúsculas.\n",
    "    - Elimina espacios en blanco.\n",
    "    - Reemplaza palabras por asteriscos y cuenta cuántas se han reemplazado.\n",
    "    \"\"\"\n",
    "    lcad = cad.lower()\n",
    "    blank = cad.strip()\n",
    "    cadena_asterisco = cad\n",
    "    palabras_reemplazadas = 0\n",
    "    \n",
    "    for palabra in lista:\n",
    "        count = cadena_asterisco.count(palabra)\n",
    "        palabras_reemplazadas += count\n",
    "        cadena_asterisco = cadena_asterisco.replace(palabra, '*'*len(palabra))\n",
    "    \n",
    "    print(lcad)\n",
    "    print(blank)\n",
    "    print(cadena_asterisco)\n",
    "    print(f\"Palabras reemplazadas: {palabras_reemplazadas}\")\n",
    "    \n",
    "if __name__ == \"__main__\":\n",
    "    process_text()\n",
    "    help(process_text)"
   ]
  },
  {
   "cell_type": "code",
   "execution_count": 33,
   "id": "1427caaa",
   "metadata": {},
   "outputs": [
    {
     "name": "stdout",
     "output_type": "stream",
     "text": [
      "El número no es primo.\n",
      "[2, 3, 5, 7, 11, 13, 17, 19, 23, 29, 31, 37, 41, 43, 47, 53, 59, 61, 67, 71, 73, 79, 83, 89, 97]\n",
      "[2, 3, 5, 7, 11]\n",
      "El numero 8 no es primo.\n"
     ]
    }
   ],
   "source": [
    "def is_prime(n):\n",
    "    \"\"\"Devuelve un texto indicando si el número es primo o no.\"\"\"\n",
    "    if n <= 1:\n",
    "        return \"El número no es primo.\"\n",
    "    for i in range(2, int(n**0.5) + 1):\n",
    "        if n % i == 0:\n",
    "            return \"El número no es primo.\"\n",
    "    return \"El número es primo.\"\n",
    "\n",
    "def prime_list(limit):\n",
    "    \"\"\"Genera una lista de números primos hasta un límite dado. Siendo el limite el ultimo numero a comprobar\"\"\"\n",
    "    primes = []\n",
    "    for num in range(2, limit + 1):\n",
    "        if is_prime(num) == \"El número es primo.\":\n",
    "            primes.append(num)\n",
    "    return primes\n",
    "\n",
    "def check_palindrome(primes):\n",
    "    \"\"\"Esta función verifica cuáles números en la lista de primos son palíndromos. Utiliza la lista de primos generada previamente.\"\"\"\n",
    "    palindromes = []\n",
    "    for prime in primes:\n",
    "        if str(prime) == str(prime)[::-1]:\n",
    "            palindromes.append(prime)\n",
    "    return palindromes\n",
    "\n",
    "def categoriza_primo(primo):\n",
    "    \"\"\"Esta función categoriza un número primo en 'primo pequeño'(< 10), 'primo mediano'(de 10 a 99) o 'primo grande' (> 99).\n",
    "    Para ello usa la función is_prime.\"\"\"\n",
    "    if is_prime(primo) != \"El número es primo.\":\n",
    "        return \"no es primo.\"\n",
    "    if primo < 10:\n",
    "        return \"primo pequeño\"\n",
    "    elif 10 <= primo <= 99:\n",
    "        return \"primo mediano\"\n",
    "    else:\n",
    "        return \"primo grande\"\n",
    "\n",
    "if __name__ == \"__main__\":\n",
    "    num = int(input(\"Introduce un número para verificar si es primo:\"))\n",
    "    print(is_prime(num))\n",
    "    print(prime_list(100))\n",
    "    print(check_palindrome(prime_list(100)))\n",
    "    if categoriza_primo(num) == \"El númerones primo.\":\n",
    "        print(f\"El numero {num} es un {categoriza_primo(num)}\")\n",
    "    else:\n",
    "        print(f\"El numero {num} {categoriza_primo(num)}\")"
   ]
  }
 ],
 "metadata": {
  "kernelspec": {
   "display_name": "Python 3",
   "language": "python",
   "name": "python3"
  },
  "language_info": {
   "codemirror_mode": {
    "name": "ipython",
    "version": 3
   },
   "file_extension": ".py",
   "mimetype": "text/x-python",
   "name": "python",
   "nbconvert_exporter": "python",
   "pygments_lexer": "ipython3",
   "version": "3.13.0"
  }
 },
 "nbformat": 4,
 "nbformat_minor": 5
}
